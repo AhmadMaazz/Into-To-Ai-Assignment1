{
 "cells": [
  {
   "cell_type": "code",
   "execution_count": 9,
   "id": "b86a09e4",
   "metadata": {},
   "outputs": [
    {
     "name": "stdout",
     "output_type": "stream",
     "text": [
      "0 0 0 1 0 0 \n",
      "1 0 0 0 0 0 \n",
      "0 0 0 0 1 0 \n",
      "0 1 0 0 0 0 \n",
      "0 0 0 0 0 1 \n",
      "0 0 1 0 0 0 \n"
     ]
    },
    {
     "data": {
      "text/plain": [
       "True"
      ]
     },
     "execution_count": 9,
     "metadata": {},
     "output_type": "execute_result"
    }
   ],
   "source": [
    "global N\n",
    "N = 6\n",
    "\n",
    "def printSolution(board):\n",
    "    for i in range(N):\n",
    "        for j in range(N):\n",
    "            print(board[i][j], end = \" \")\n",
    "        print()\n",
    "\n",
    "# A utility function to check if a queen can\n",
    "# be placed on board[row][col]. Note that this\n",
    "# function is called when \"col\" queens are\n",
    "# already placed in columns from 0 to col -1.\n",
    "# So we need to check only left side for\n",
    "# attacking queens\n",
    "def isSafe(board, row, col):\n",
    "\n",
    "\t# Check this row on left side\n",
    "\tfor i in range(col):\n",
    "\t\tif board[row][i] == 1:\n",
    "\t\t\treturn False\n",
    "\n",
    "\t# Check upper diagonal on left side\n",
    "\tfor i, j in zip(range(row, -1, -1),\n",
    "\t\t\t\t\trange(col, -1, -1)):\n",
    "\t\tif board[i][j] == 1:\n",
    "\t\t\treturn False\n",
    "\n",
    "\t# Check lower diagonal on left side\n",
    "\tfor i, j in zip(range(row, N, 1),\n",
    "\t\t\t\t\trange(col, -1, -1)):\n",
    "\t\tif board[i][j] == 1:\n",
    "\t\t\treturn False\n",
    "\n",
    "\treturn True\n",
    "\n",
    "def solveNQUtil(board, col):\n",
    "\t\n",
    "\t# base case: If all queens are placed\n",
    "\t# then return true\n",
    "\tif col >= N:\n",
    "\t\treturn True\n",
    "\n",
    "\t# Consider this column and try placing\n",
    "\t# this queen in all rows one by one\n",
    "\tfor i in range(N):\n",
    "\n",
    "\t\tif isSafe(board, i, col):\n",
    "\t\t\t\n",
    "\t\t\t# Place this queen in board[i][col]\n",
    "\t\t\tboard[i][col] = 1\n",
    "\n",
    "\t\t\t# recur to place rest of the queens\n",
    "\t\t\tif solveNQUtil(board, col + 1) == True:\n",
    "\t\t\t\treturn True\n",
    "\n",
    "\t\t\t# If placing queen in board[i][col\n",
    "\t\t\t# doesn't lead to a solution, then\n",
    "\t\t\t# queen from board[i][col]\n",
    "\t\t\tboard[i][col] = 0\n",
    "\n",
    "\t# if the queen can not be placed in any row in\n",
    "\t# this column col then return false\n",
    "\treturn False\n",
    "\n",
    "# This function solves the N Queen problem using\n",
    "# Backtracking. It mainly uses solveNQUtil() to\n",
    "# solve the problem. It returns false if queens\n",
    "# cannot be placed, otherwise return true and\n",
    "# placement of queens in the form of 1s.\n",
    "# note that there may be more than one\n",
    "# solutions, this function prints one of the\n",
    "# feasible solutions.\n",
    "def solveNQ():\n",
    "\tboard = [ [0, 0, 0,0,0,0],\n",
    "\t\t\t[0, 0, 0, 0,0,0],\n",
    "\t\t\t[0, 0, 0, 0,0,0],\n",
    "\t\t\t[0, 0, 0, 0,0,0],\n",
    "            [0,0,0,0,0,0],\n",
    "            [0,0,0,0,0,0]]\n",
    "\n",
    "\tif solveNQUtil(board, 0) == False:\n",
    "\t\tprint (\"Solution does not exist\")\n",
    "\t\treturn False\n",
    "\n",
    "\tprintSolution(board)\n",
    "\treturn True\n",
    "\n",
    "# Driver Code\n",
    "solveNQ()\n",
    "\n",
    "# This code is contributed by Divyanshu Mehta\n"
   ]
  },
  {
   "cell_type": "code",
   "execution_count": null,
   "id": "6cfa11ae",
   "metadata": {},
   "outputs": [],
   "source": [
    "# solving N queens problem using DFS"
   ]
  },
  {
   "cell_type": "code",
   "execution_count": 3,
   "id": "0c23275f",
   "metadata": {},
   "outputs": [],
   "source": [
    "def dfs(board, col):\n",
    "    # base case: If all queens are placed\n",
    "    # then return true\n",
    "    if col >= N:\n",
    "        return True\n",
    "\n",
    "    # Traverse all rows for the current column\n",
    "    for row in range(N):\n",
    "        if isSafe(board, row, col):\n",
    "            # Place this queen in board[row][col]\n",
    "            board[row][col] = 1\n",
    "\n",
    "            # recur to place rest of the queens\n",
    "            if dfs(board, col + 1):\n",
    "                return True\n",
    "\n",
    "            # If placing queen in board[row][col]\n",
    "            # doesn't lead to a solution, then\n",
    "            # remove queen from board[row][col]\n",
    "            board[row][col] = 0\n",
    "\n",
    "    # if the queen can not be placed in any row in\n",
    "    # this column col then return false\n",
    "    return False\n",
    "\n",
    "# Driver Code for DFS\n",
    "def solveNQ_DFS():\n",
    "    board = [[0 for i in range(N)] for j in range(N)]\n",
    "    if dfs(board, 0) == False:\n",
    "        print(\"Solution does not exist\")\n",
    "        return False\n",
    "\n",
    "    printSolution(board)\n",
    "    return True"
   ]
  },
  {
   "cell_type": "code",
   "execution_count": 10,
   "id": "b2fa61ae",
   "metadata": {},
   "outputs": [
    {
     "name": "stdout",
     "output_type": "stream",
     "text": [
      "0 0 0 1 0 0 \n",
      "1 0 0 0 0 0 \n",
      "0 0 0 0 1 0 \n",
      "0 1 0 0 0 0 \n",
      "0 0 0 0 0 1 \n",
      "0 0 1 0 0 0 \n"
     ]
    },
    {
     "data": {
      "text/plain": [
       "True"
      ]
     },
     "execution_count": 10,
     "metadata": {},
     "output_type": "execute_result"
    }
   ],
   "source": [
    "solveNQ_DFS()"
   ]
  },
  {
   "cell_type": "code",
   "execution_count": 6,
   "id": "e3df9f73",
   "metadata": {},
   "outputs": [],
   "source": [
    "# Now in case of BFs let's look at the code"
   ]
  },
  {
   "cell_type": "code",
   "execution_count": 7,
   "id": "7cdaca68",
   "metadata": {},
   "outputs": [],
   "source": [
    "from queue import Queue\n",
    "\n",
    "# Driver Code for BFS\n",
    "def solveNQ_BFS():\n",
    "    board = [[0 for i in range(N)] for j in range(N)]\n",
    "    q = Queue()\n",
    "    q.put((board, 0))\n",
    "    while not q.empty():\n",
    "        curr_board, col = q.get()\n",
    "        if col >= N:\n",
    "            printSolution(curr_board)\n",
    "            return True\n",
    "        for row in range(N):\n",
    "            if isSafe(curr_board, row, col):\n",
    "                new_board = [r[:] for r in curr_board]\n",
    "                new_board[row][col] = 1\n",
    "                q.put((new_board, col + 1))\n",
    "\n",
    "    print(\"Solution does not exist\")\n",
    "    return False\n",
    "\n"
   ]
  },
  {
   "cell_type": "code",
   "execution_count": 11,
   "id": "e53a3bcc",
   "metadata": {},
   "outputs": [
    {
     "name": "stdout",
     "output_type": "stream",
     "text": [
      "0 0 0 1 0 0 \n",
      "1 0 0 0 0 0 \n",
      "0 0 0 0 1 0 \n",
      "0 1 0 0 0 0 \n",
      "0 0 0 0 0 1 \n",
      "0 0 1 0 0 0 \n"
     ]
    },
    {
     "data": {
      "text/plain": [
       "True"
      ]
     },
     "execution_count": 11,
     "metadata": {},
     "output_type": "execute_result"
    }
   ],
   "source": [
    "solveNQ_BFS()"
   ]
  },
  {
   "cell_type": "code",
   "execution_count": 12,
   "id": "918e51ce",
   "metadata": {},
   "outputs": [],
   "source": [
    "# we are using the N which is set as a global variable in the geekforgeeks code we copied\n",
    "# lets try changing it to 6"
   ]
  },
  {
   "cell_type": "code",
   "execution_count": null,
   "id": "1ac59034",
   "metadata": {},
   "outputs": [],
   "source": [
    "# for UCS algorithm\n",
    "# The cost of every step in this problem is same so UCS would behave in the same manner as BFS.\n",
    "\n"
   ]
  }
 ],
 "metadata": {
  "kernelspec": {
   "display_name": "Python 3 (ipykernel)",
   "language": "python",
   "name": "python3"
  },
  "language_info": {
   "codemirror_mode": {
    "name": "ipython",
    "version": 3
   },
   "file_extension": ".py",
   "mimetype": "text/x-python",
   "name": "python",
   "nbconvert_exporter": "python",
   "pygments_lexer": "ipython3",
   "version": "3.10.5"
  }
 },
 "nbformat": 4,
 "nbformat_minor": 5
}
