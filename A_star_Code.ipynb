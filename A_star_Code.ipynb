{
 "cells": [
  {
   "cell_type": "code",
   "execution_count": 1,
   "id": "a4fe014f",
   "metadata": {},
   "outputs": [],
   "source": [
    "graph = {\n",
    "         'Arad': [('Sibiu', 140), ('Timisoara', 118), ('Zerind', 75)],\n",
    "         'Sibiu': [('Arad', 140), ('Oradea', 151), ('Fagaras', 99), ('Rimnicu', 80)],\n",
    "         'Timisoara': [('Arad', 118), ('Lugoj', 111)],\n",
    "         'Zerind': [('Arad', 75), ('Oradea', 71)],\n",
    "         'Oradea': [('Zerind', 71), ('Sibiu', 151)],\n",
    "         'Fagaras': [('Sibiu', 99), ('Bucharest', 211)],\n",
    "         'Rimnicu': [('Sibiu', 80), ('Craivo', 146), ('Pitesti', 97)],\n",
    "         'Lugoj': [('Timisoara', 111), ('Mehadia', 70)],\n",
    "         'Bucharest': [('Giurgiu', 90), ('Urziceni', 85), ('Pitesti', 101), ('Fagaras', 211)],\n",
    "         'Craivo': [('Dobreta', 120), ('Pitesti', 138), ('Rimnicu', 146)],\n",
    "         'Pitesti': [('Rimnicu', 97), ('Craivo', 138), ('Bucharest', 101)],\n",
    "         'Mehadia': [('Dobreta', 75), ('Lugoj', 70)],\n",
    "         'Giurgiu': [('Bucharest', 90)],\n",
    "         'Urziceni': [('Bucharest', 85), ('Hirsova', 98), ('Vaslui', 142)],\n",
    "         'Dobreta': [('Mehadia', 75), ('Craivo', 120)],\n",
    "         'Hirsova' : [('Eforie', 86), ('Urziceni', 98)],\n",
    "         'Vaslui' : [('Urziceni', 142), ('Lasi', 92)],\n",
    "         'Eforie' : [('Hirsova', 86)],\n",
    "         'Lasi': [('Neamt', 87), ('Vaslui', 92)],\n",
    "         'Neamt': [('Lasi', 87)],\n",
    "}\n"
   ]
  },
  {
   "cell_type": "code",
   "execution_count": 2,
   "id": "087f842d",
   "metadata": {},
   "outputs": [],
   "source": [
    "heuristic = {\n",
    "        \n",
    "         'Arad': 366,\n",
    "         'Sibiu':  253,\n",
    "         'Timisoara': 329,\n",
    "         'Zerind': 374,\n",
    "         'Oradea': 380,\n",
    "         'Fagaras': 178,\n",
    "         'Rimnicu': 193,\n",
    "         'Lugoj': 244,\n",
    "         'Bucharest': 0,\n",
    "         'Craivo': 160,\n",
    "         'Pitesti': 98,\n",
    "         'Mehadia': 241,\n",
    "         'Giurgiu': 77,\n",
    "         'Urziceni': 80,\n",
    "         'Dobreta': 242,\n",
    "         'Hirsova' : 151,\n",
    "         'Vaslui' : 199,\n",
    "         'Eforie' : 161,\n",
    "         'Lasi': 226,\n",
    "         'Neamt': 234\n",
    "}"
   ]
  },
  {
   "cell_type": "code",
   "execution_count": 4,
   "id": "917fa580",
   "metadata": {},
   "outputs": [],
   "source": [
    "import heapq\n",
    "def A_star(start, goal):\n",
    "    # Create a priority queue and add the start node with a total cost of 0\n",
    "    pq = [(heuristic[start], start, 0)]\n",
    "    # Create an empty set to store visited nodes\n",
    "    visited = set()\n",
    "    # Create a dictionary to store the path and its cost from the start node\n",
    "    path_cost = {start: 0}\n",
    "    \n",
    "    while pq:\n",
    "        # Get the node with the lowest total cost from the priority queue\n",
    "        _, current_node, current_cost = heapq.heappop(pq)\n",
    "        \n",
    "        if current_node == goal:\n",
    "            # If the goal node is reached, return the path and its cost\n",
    "            path = [current_node]\n",
    "            while current_node != start:\n",
    "                current_node = path_cost[current_node][1]\n",
    "                path.append(current_node)\n",
    "            path.reverse()\n",
    "            return path, current_cost\n",
    "        \n",
    "        if current_node in visited:\n",
    "            # If the current node has been visited, skip it\n",
    "            continue\n",
    "        \n",
    "        # Mark the current node as visited\n",
    "        visited.add(current_node)\n",
    "        \n",
    "        # Explore the neighbors of the current node\n",
    "        for neighbor, cost in graph[current_node]:\n",
    "            if neighbor in visited:\n",
    "                # If the neighbor has been visited, skip it\n",
    "                continue\n",
    "            # Calculate the total cost of the path to the neighbor\n",
    "            path_cost_to_neighbor = current_cost + cost\n",
    "            # Calculate the estimated cost from the neighbor to the goal\n",
    "            estimated_cost_to_goal = heuristic[neighbor]\n",
    "            # Calculate the total cost of the path through the neighbor\n",
    "            total_cost = path_cost_to_neighbor + estimated_cost_to_goal\n",
    "            if neighbor not in path_cost or path_cost_to_neighbor < path_cost[neighbor][0]:\n",
    "                # Update the path and its cost to the neighbor if it is better than the previous one\n",
    "                path_cost[neighbor] = (path_cost_to_neighbor, current_node)\n",
    "                # Add the neighbor to the priority queue with its total cost\n",
    "                heapq.heappush(pq, (total_cost, neighbor, path_cost_to_neighbor))\n",
    "    \n",
    "    # If the goal node is not reached and there are no more nodes to visit, return None\n",
    "    return None\n"
   ]
  },
  {
   "cell_type": "code",
   "execution_count": 5,
   "id": "8fa8dac6",
   "metadata": {},
   "outputs": [
    {
     "data": {
      "text/plain": [
       "(['Arad', 'Sibiu', 'Rimnicu', 'Pitesti', 'Bucharest'], 418)"
      ]
     },
     "execution_count": 5,
     "metadata": {},
     "output_type": "execute_result"
    }
   ],
   "source": [
    "A_star('Arad','Bucharest')"
   ]
  },
  {
   "cell_type": "code",
   "execution_count": 6,
   "id": "0f0df73e",
   "metadata": {},
   "outputs": [
    {
     "data": {
      "text/plain": [
       "(['Arad', 'Sibiu', 'Rimnicu', 'Pitesti', 'Bucharest', 'Urziceni', 'Vaslui'],\n",
       " 645)"
      ]
     },
     "execution_count": 6,
     "metadata": {},
     "output_type": "execute_result"
    }
   ],
   "source": [
    "A_star('Arad','Vaslui')"
   ]
  },
  {
   "cell_type": "code",
   "execution_count": null,
   "id": "24665c83",
   "metadata": {},
   "outputs": [],
   "source": []
  }
 ],
 "metadata": {
  "kernelspec": {
   "display_name": "Python 3 (ipykernel)",
   "language": "python",
   "name": "python3"
  },
  "language_info": {
   "codemirror_mode": {
    "name": "ipython",
    "version": 3
   },
   "file_extension": ".py",
   "mimetype": "text/x-python",
   "name": "python",
   "nbconvert_exporter": "python",
   "pygments_lexer": "ipython3",
   "version": "3.10.5"
  }
 },
 "nbformat": 4,
 "nbformat_minor": 5
}
