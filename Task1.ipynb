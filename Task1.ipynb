{
 "cells": [
  {
   "cell_type": "code",
   "execution_count": 5,
   "id": "464dbf59",
   "metadata": {},
   "outputs": [],
   "source": [
    "#making node:\n",
    "class Node:\n",
    "    \n",
    "    def __init__(self, val):\n",
    "        self.val = val\n",
    "        self.left = None\n",
    "        self.right = None\n",
    "        \n",
    "def insert( root, node):\n",
    "    \n",
    "    if root is None:\n",
    "        return node\n",
    "    \n",
    "    if root.val > node.val:\n",
    "        root.left = insert(root.left,node)\n",
    "\n",
    "    elif root.val < node.val:\n",
    "        root.right = insert(root.right,node)\n",
    "\n",
    "    return root\n",
    "\n",
    "val = [12,7,5,9,17,14,19]\n",
    "\n",
    "root = Node(val[0])\n",
    "\n",
    "for i in val:\n",
    "    insert(root,Node(i))\n"
   ]
  },
  {
   "cell_type": "code",
   "execution_count": 6,
   "id": "2db52fad",
   "metadata": {},
   "outputs": [
    {
     "name": "stdout",
     "output_type": "stream",
     "text": [
      "[12]\n",
      "POP:  12\n",
      "\n",
      "[7, 17]\n",
      "POP:  7\n",
      "\n",
      "[17, 5, 9]\n",
      "POP:  17\n",
      "\n",
      "[5, 9, 14, 19]\n",
      "POP:  5\n",
      "\n",
      "[9, 14, 19]\n",
      "POP:  9\n",
      "\n",
      "[14, 19]\n",
      "POP:  14\n",
      "\n",
      "Result:   [12, 7, 17, 5, 9, 14]\n"
     ]
    }
   ],
   "source": [
    "def BFS(goal):\n",
    "    explored = []\n",
    "    q = []\n",
    "    q.append(root)\n",
    "\n",
    "\n",
    "    while len(q)>0:\n",
    "\n",
    "        #print(q)\n",
    "        \n",
    "        qq = [i.val for i in q]\n",
    "        print(qq)\n",
    "        \n",
    "        node = q.pop(0)\n",
    "        \n",
    "        explored.append(node.val)\n",
    "        \n",
    "        print('POP: ',node.val)\n",
    "        print()\n",
    "\n",
    "        if node.val == goal:\n",
    "            print('Result:  ',explored)\n",
    "            break\n",
    "\n",
    "\n",
    "        if node.left is not None:\n",
    "            q.append(node.left)\n",
    "\n",
    "        if node.right is not None:\n",
    "            q.append(node.right)\n",
    "\n",
    "BFS(14)"
   ]
  },
  {
   "cell_type": "code",
   "execution_count": 7,
   "id": "a0e67a49",
   "metadata": {},
   "outputs": [
    {
     "name": "stdout",
     "output_type": "stream",
     "text": [
      "[12]\n",
      "POP:  12\n",
      "\n",
      "[17, 7]\n",
      "POP:  7\n",
      "\n",
      "[17, 9, 5]\n",
      "POP:  5\n",
      "\n",
      "[17, 9]\n",
      "POP:  9\n",
      "\n",
      "[17]\n",
      "POP:  17\n",
      "\n",
      "[19, 14]\n",
      "POP:  14\n",
      "\n",
      "Result:   [12, 7, 5, 9, 17, 14]\n"
     ]
    }
   ],
   "source": [
    "def DFS(goal):\n",
    "    explored = []\n",
    "    s = []\n",
    "    s.append(root)\n",
    "\n",
    "\n",
    "    while len(s)>0:\n",
    "\n",
    "        \n",
    "        \n",
    "        ss = [i.val for i in s]\n",
    "        print(ss)\n",
    "        \n",
    "        node = s.pop()\n",
    "        \n",
    "        explored.append(node.val)\n",
    "        \n",
    "        print('POP: ',node.val)\n",
    "        print()\n",
    "\n",
    "        if node.val == goal:\n",
    "            print('Result:  ',explored)\n",
    "            break\n",
    "\n",
    "        if node.right is not None:\n",
    "            s.append(node.right)\n",
    "            \n",
    "        if node.left is not None:\n",
    "            s.append(node.left)\n",
    "\n",
    "\n",
    "\n",
    "DFS(14)"
   ]
  },
  {
   "cell_type": "code",
   "execution_count": 8,
   "id": "9c1ce7de",
   "metadata": {},
   "outputs": [],
   "source": [
    "# now we will shift to graph data structure"
   ]
  },
  {
   "cell_type": "code",
   "execution_count": 9,
   "id": "dec2ffdd",
   "metadata": {},
   "outputs": [],
   "source": [
    "from collections import deque\n",
    "\n",
    "adj_list = {\n",
    "    'A': ['B', 'C'],\n",
    "    'B': ['D', 'E'],\n",
    "    'C': ['F'],\n",
    "    'D': [],\n",
    "    'E': ['F'],\n",
    "    'F': []\n",
    "}"
   ]
  },
  {
   "cell_type": "code",
   "execution_count": 10,
   "id": "29f134b3",
   "metadata": {},
   "outputs": [],
   "source": [
    "# Breadth-First Search\n",
    "def bfs(adj_list, start):\n",
    "    visited = set()\n",
    "    queue = deque([start])\n",
    "    visited.add(start)\n",
    "    \n",
    "    while queue:\n",
    "        curr_node = queue.popleft()\n",
    "        print(curr_node, end=' ')\n",
    "        \n",
    "        for neighbor in adj_list[curr_node]:\n",
    "            if neighbor not in visited:\n",
    "                visited.add(neighbor)\n",
    "                queue.append(neighbor)"
   ]
  },
  {
   "cell_type": "code",
   "execution_count": 11,
   "id": "d2edb8de",
   "metadata": {},
   "outputs": [],
   "source": [
    "# Depth-First Search\n",
    "def dfs(adj_list, start):\n",
    "    visited = set()\n",
    "    stack = [start]\n",
    "    \n",
    "    while stack:\n",
    "        curr_node = stack.pop()\n",
    "        \n",
    "        if curr_node not in visited:\n",
    "            visited.add(curr_node)\n",
    "            print(curr_node, end=' ')\n",
    "            \n",
    "            for neighbor in reversed(adj_list[curr_node]):\n",
    "                if neighbor not in visited:\n",
    "                    stack.append(neighbor)\n"
   ]
  },
  {
   "cell_type": "code",
   "execution_count": 12,
   "id": "49919f61",
   "metadata": {},
   "outputs": [
    {
     "name": "stdout",
     "output_type": "stream",
     "text": [
      "A B C D E F \n",
      "A B D E F C "
     ]
    }
   ],
   "source": [
    "# Test the functions\n",
    "bfs(adj_list, 'A')\n",
    "print()\n",
    "dfs(adj_list, 'A')"
   ]
  },
  {
   "cell_type": "code",
   "execution_count": null,
   "id": "648b54f2",
   "metadata": {},
   "outputs": [],
   "source": []
  }
 ],
 "metadata": {
  "kernelspec": {
   "display_name": "Python 3 (ipykernel)",
   "language": "python",
   "name": "python3"
  },
  "language_info": {
   "codemirror_mode": {
    "name": "ipython",
    "version": 3
   },
   "file_extension": ".py",
   "mimetype": "text/x-python",
   "name": "python",
   "nbconvert_exporter": "python",
   "pygments_lexer": "ipython3",
   "version": "3.10.5"
  }
 },
 "nbformat": 4,
 "nbformat_minor": 5
}
