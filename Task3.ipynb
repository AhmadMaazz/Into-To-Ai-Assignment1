{
 "cells": [
  {
   "cell_type": "code",
   "execution_count": 27,
   "id": "88537307",
   "metadata": {},
   "outputs": [],
   "source": [
    "# Task3"
   ]
  },
  {
   "cell_type": "code",
   "execution_count": 1,
   "id": "285e1272",
   "metadata": {
    "collapsed": true
   },
   "outputs": [
    {
     "name": "stdout",
     "output_type": "stream",
     "text": [
      "2\n",
      "3\n",
      "4\n",
      "5\n",
      "6\n",
      "7\n",
      "8\n",
      "10\n",
      "11\n",
      "12\n",
      "13\n",
      "14\n",
      "15\n",
      "16\n",
      "17\n"
     ]
    }
   ],
   "source": [
    "class Node:\n",
    "    \n",
    "    def __init__(self, v):\n",
    "        self.val = v\n",
    "        self.left = None\n",
    "        self.right = None\n",
    "def inorder_traversal(node):\n",
    "        if node:\n",
    "        \n",
    "            inorder_traversal(node.left)\n",
    "            print(node.val)\n",
    "            inorder_traversal(node.right)\n",
    "\n",
    "        \n",
    "def insert( root, node):\n",
    "    \n",
    "    if root is None:\n",
    "        return node\n",
    "    \n",
    "    if root.val > node.val:\n",
    "        root.left = insert(root.left,node)\n",
    "\n",
    "    elif root.val < node.val:\n",
    "        root.right = insert(root.right,node)\n",
    "\n",
    "    return root\n",
    "\n",
    "val = [10,7,8,6,5,4,3,2,12,11,13,14,15,16,17]\n",
    "\n",
    "root = Node(val[0])\n",
    "\n",
    "for i in val:\n",
    "    insert(root,Node(i))\n",
    "    \n",
    "inorder_traversal(root)"
   ]
  },
  {
   "cell_type": "code",
   "execution_count": 5,
   "id": "062c795e",
   "metadata": {
    "collapsed": true
   },
   "outputs": [
    {
     "ename": "ImportError",
     "evalue": "cannot import name 'build' from partially initialized module 'binarytree' (most likely due to a circular import) (C:\\Users\\ahmad\\Desktop\\Into to AI lab codes\\Untitled Folder\\binarytree.py)",
     "output_type": "error",
     "traceback": [
      "\u001b[1;31m---------------------------------------------------------------------------\u001b[0m",
      "\u001b[1;31mImportError\u001b[0m                               Traceback (most recent call last)",
      "Cell \u001b[1;32mIn [5], line 1\u001b[0m\n\u001b[1;32m----> 1\u001b[0m \u001b[38;5;28;01mimport\u001b[39;00m \u001b[38;5;21;01mbinarytree\u001b[39;00m\n",
      "File \u001b[1;32m~\\Desktop\\Into to AI lab codes\\Untitled Folder\\binarytree.py:5\u001b[0m\n\u001b[0;32m      2\u001b[0m \u001b[38;5;66;03m# Creating binary tree \u001b[39;00m\n\u001b[0;32m      3\u001b[0m \u001b[38;5;66;03m# from given list\u001b[39;00m\n\u001b[1;32m----> 5\u001b[0m \u001b[38;5;28;01mfrom\u001b[39;00m \u001b[38;5;21;01mbinarytree\u001b[39;00m \u001b[38;5;28;01mimport\u001b[39;00m build\n\u001b[0;32m      7\u001b[0m \u001b[38;5;66;03m# List of nodes\u001b[39;00m\n\u001b[0;32m      8\u001b[0m nodes \u001b[38;5;241m=\u001b[39m[\u001b[38;5;241m3\u001b[39m, \u001b[38;5;241m6\u001b[39m, \u001b[38;5;241m8\u001b[39m, \u001b[38;5;241m2\u001b[39m, \u001b[38;5;241m11\u001b[39m, \u001b[38;5;28;01mNone\u001b[39;00m, \u001b[38;5;241m13\u001b[39m]\n",
      "\u001b[1;31mImportError\u001b[0m: cannot import name 'build' from partially initialized module 'binarytree' (most likely due to a circular import) (C:\\Users\\ahmad\\Desktop\\Into to AI lab codes\\Untitled Folder\\binarytree.py)"
     ]
    }
   ],
   "source": [
    "import binarytree"
   ]
  },
  {
   "cell_type": "code",
   "execution_count": 3,
   "id": "e2599bfc",
   "metadata": {
    "collapsed": true
   },
   "outputs": [
    {
     "ename": "ImportError",
     "evalue": "cannot import name 'build' from partially initialized module 'binarytree' (most likely due to a circular import) (C:\\Users\\ahmad\\Desktop\\Into to AI lab codes\\Untitled Folder\\binarytree.py)",
     "output_type": "error",
     "traceback": [
      "\u001b[1;31m---------------------------------------------------------------------------\u001b[0m",
      "\u001b[1;31mImportError\u001b[0m                               Traceback (most recent call last)",
      "Cell \u001b[1;32mIn [3], line 1\u001b[0m\n\u001b[1;32m----> 1\u001b[0m \u001b[38;5;28;01mfrom\u001b[39;00m \u001b[38;5;21;01mbinarytree\u001b[39;00m \u001b[38;5;28;01mimport\u001b[39;00m Node\n\u001b[0;32m      3\u001b[0m root \u001b[38;5;241m=\u001b[39m Node(\u001b[38;5;241m1\u001b[39m)\n\u001b[0;32m      4\u001b[0m root\u001b[38;5;241m.\u001b[39mleft \u001b[38;5;241m=\u001b[39m Node(\u001b[38;5;241m2\u001b[39m)\n",
      "File \u001b[1;32m~\\Desktop\\Into to AI lab codes\\Untitled Folder\\binarytree.py:5\u001b[0m\n\u001b[0;32m      2\u001b[0m \u001b[38;5;66;03m# Creating binary tree \u001b[39;00m\n\u001b[0;32m      3\u001b[0m \u001b[38;5;66;03m# from given list\u001b[39;00m\n\u001b[1;32m----> 5\u001b[0m \u001b[38;5;28;01mfrom\u001b[39;00m \u001b[38;5;21;01mbinarytree\u001b[39;00m \u001b[38;5;28;01mimport\u001b[39;00m build\n\u001b[0;32m      7\u001b[0m \u001b[38;5;66;03m# List of nodes\u001b[39;00m\n\u001b[0;32m      8\u001b[0m nodes \u001b[38;5;241m=\u001b[39m[\u001b[38;5;241m3\u001b[39m, \u001b[38;5;241m6\u001b[39m, \u001b[38;5;241m8\u001b[39m, \u001b[38;5;241m2\u001b[39m, \u001b[38;5;241m11\u001b[39m, \u001b[38;5;28;01mNone\u001b[39;00m, \u001b[38;5;241m13\u001b[39m]\n",
      "\u001b[1;31mImportError\u001b[0m: cannot import name 'build' from partially initialized module 'binarytree' (most likely due to a circular import) (C:\\Users\\ahmad\\Desktop\\Into to AI lab codes\\Untitled Folder\\binarytree.py)"
     ]
    }
   ],
   "source": [
    "from binarytree import Node\n",
    "\n",
    "root = Node(1)\n",
    "root.left = Node(2)\n",
    "root.right = Node(3)\n",
    "root.left.right = Node(4)\n",
    "\n",
    "print(root)\n",
    "#\n",
    "#      __1\n",
    "#     /   \\\n",
    "#    2     3\n",
    "#     \\\n",
    "#      4\n",
    "#\n"
   ]
  },
  {
   "cell_type": "code",
   "execution_count": null,
   "id": "f1166c02",
   "metadata": {},
   "outputs": [],
   "source": []
  },
  {
   "cell_type": "code",
   "execution_count": 2,
   "id": "2985fa1a",
   "metadata": {
    "collapsed": true
   },
   "outputs": [
    {
     "ename": "ImportError",
     "evalue": "cannot import name 'build' from partially initialized module 'binarytree' (most likely due to a circular import) (C:\\Users\\ahmad\\Desktop\\Into to AI lab codes\\Untitled Folder\\binarytree.py)",
     "output_type": "error",
     "traceback": [
      "\u001b[1;31m---------------------------------------------------------------------------\u001b[0m",
      "\u001b[1;31mImportError\u001b[0m                               Traceback (most recent call last)",
      "Cell \u001b[1;32mIn [2], line 1\u001b[0m\n\u001b[1;32m----> 1\u001b[0m \u001b[38;5;28;01mfrom\u001b[39;00m \u001b[38;5;21;01mbinarytree\u001b[39;00m \u001b[38;5;28;01mimport\u001b[39;00m build\n\u001b[0;32m      3\u001b[0m \u001b[38;5;66;03m# Build a tree from list representation\u001b[39;00m\n\u001b[0;32m      4\u001b[0m values \u001b[38;5;241m=\u001b[39m [\u001b[38;5;241m7\u001b[39m, \u001b[38;5;241m3\u001b[39m, \u001b[38;5;241m2\u001b[39m, \u001b[38;5;241m6\u001b[39m, \u001b[38;5;241m9\u001b[39m, \u001b[38;5;28;01mNone\u001b[39;00m, \u001b[38;5;241m1\u001b[39m, \u001b[38;5;241m5\u001b[39m, \u001b[38;5;241m8\u001b[39m]\n",
      "File \u001b[1;32m~\\Desktop\\Into to AI lab codes\\Untitled Folder\\binarytree.py:5\u001b[0m\n\u001b[0;32m      2\u001b[0m \u001b[38;5;66;03m# Creating binary tree \u001b[39;00m\n\u001b[0;32m      3\u001b[0m \u001b[38;5;66;03m# from given list\u001b[39;00m\n\u001b[1;32m----> 5\u001b[0m \u001b[38;5;28;01mfrom\u001b[39;00m \u001b[38;5;21;01mbinarytree\u001b[39;00m \u001b[38;5;28;01mimport\u001b[39;00m build\n\u001b[0;32m      7\u001b[0m \u001b[38;5;66;03m# List of nodes\u001b[39;00m\n\u001b[0;32m      8\u001b[0m nodes \u001b[38;5;241m=\u001b[39m[\u001b[38;5;241m3\u001b[39m, \u001b[38;5;241m6\u001b[39m, \u001b[38;5;241m8\u001b[39m, \u001b[38;5;241m2\u001b[39m, \u001b[38;5;241m11\u001b[39m, \u001b[38;5;28;01mNone\u001b[39;00m, \u001b[38;5;241m13\u001b[39m]\n",
      "\u001b[1;31mImportError\u001b[0m: cannot import name 'build' from partially initialized module 'binarytree' (most likely due to a circular import) (C:\\Users\\ahmad\\Desktop\\Into to AI lab codes\\Untitled Folder\\binarytree.py)"
     ]
    }
   ],
   "source": [
    "from binarytree import build\n",
    "\n",
    "# Build a tree from list representation\n",
    "values = [7, 3, 2, 6, 9, None, 1, 5, 8]\n",
    "root = build(values)\n",
    "print(root)\n",
    "#\n",
    "#            __7\n",
    "#           /   \\\n",
    "#        __3     2\n",
    "#       /   \\     \\\n",
    "#      6     9     1\n",
    "#     / \\\n",
    "#    5   8\n",
    "#\n",
    "\n",
    "# Go back to list representation\n",
    "print(root.values) \n",
    "# [7, 3, 2, 6, 9, None, 1, 5, 8]"
   ]
  },
  {
   "cell_type": "code",
   "execution_count": 9,
   "id": "4cdf1951",
   "metadata": {},
   "outputs": [],
   "source": [
    "# part b"
   ]
  },
  {
   "cell_type": "code",
   "execution_count": 16,
   "id": "dc82fac5",
   "metadata": {},
   "outputs": [
    {
     "name": "stdout",
     "output_type": "stream",
     "text": [
      "10\n",
      "├── 7\n",
      "│   ├── 6\n",
      "│   │   └── 5\n",
      "│   │       └── 4\n",
      "│   │           └── 3\n",
      "│   │               └── 2\n",
      "│   └── 8\n",
      "└── 12\n",
      "    ├── 11\n",
      "    └── 13\n",
      "        └── 14\n",
      "            └── 15\n",
      "                └── 16\n",
      "                    └── 17\n"
     ]
    }
   ],
   "source": [
    "from anytree import Node, RenderTree\n",
    "\n",
    "def create_binary_tree(vals, parent=None):\n",
    "    if not vals:\n",
    "        return None\n",
    "    \n",
    "    # Create the root node\n",
    "    root_val = vals[0]\n",
    "    root = Node(str(root_val), parent=parent)\n",
    "    \n",
    "    # Create the left and right subtrees recursively\n",
    "    left_vals = [v for v in vals[1:] if v < root_val]\n",
    "    right_vals = [v for v in vals[1:] if v > root_val]\n",
    "    \n",
    "    root.left = create_binary_tree(left_vals, parent=root)\n",
    "    root.right = create_binary_tree(right_vals, parent=root)\n",
    "    \n",
    "    return root\n",
    "\n",
    "# Create the binary tree and print it\n",
    "vals = [10,7,8,6,5,4,3,2,12,11,13,14,15,16,17]\n",
    "root = create_binary_tree(vals)\n",
    "for pre, _, node in RenderTree(root):\n",
    "    print(\"%s%s\" % (pre, node.name))\n"
   ]
  },
  {
   "cell_type": "code",
   "execution_count": 17,
   "id": "2f50e18d",
   "metadata": {},
   "outputs": [
    {
     "name": "stdout",
     "output_type": "stream",
     "text": [
      "\n",
      "Complete Binary Tree:\n",
      "10\n",
      "├── 7\n",
      "│   ├── 6\n",
      "│   │   ├── 2\n",
      "│   │   └── 12\n",
      "│   └── 5\n",
      "│       ├── 11\n",
      "│       └── 13\n",
      "└── 8\n",
      "    ├── 4\n",
      "    │   ├── 14\n",
      "    │   └── 15\n",
      "    └── 3\n",
      "        ├── 16\n",
      "        └── 17\n"
     ]
    }
   ],
   "source": [
    "root = Node(val[0])\n",
    "nodes = [root]\n",
    "for i in range(1, len(val)):\n",
    "    node = Node(val[i], parent=nodes[(i-1)//2])\n",
    "    nodes.append(node)\n",
    "    \n",
    "print(\"\\nComplete Binary Tree:\")\n",
    "for pre, _, node in RenderTree(root):\n",
    "    print(f\"{pre}{node.name}\")"
   ]
  },
  {
   "cell_type": "code",
   "execution_count": 18,
   "id": "5bc402b1",
   "metadata": {},
   "outputs": [],
   "source": [
    "# part c\n",
    "# using tree lib"
   ]
  },
  {
   "cell_type": "code",
   "execution_count": 28,
   "id": "cb3719fa",
   "metadata": {},
   "outputs": [
    {
     "ename": "AttributeError",
     "evalue": "'Node' object has no attribute 'left'",
     "output_type": "error",
     "traceback": [
      "\u001b[1;31m---------------------------------------------------------------------------\u001b[0m",
      "\u001b[1;31mAttributeError\u001b[0m                            Traceback (most recent call last)",
      "Cell \u001b[1;32mIn [28], line 15\u001b[0m\n\u001b[0;32m     13\u001b[0m bst \u001b[38;5;241m=\u001b[39m Node(val[\u001b[38;5;241m0\u001b[39m])\n\u001b[0;32m     14\u001b[0m \u001b[38;5;28;01mfor\u001b[39;00m i \u001b[38;5;129;01min\u001b[39;00m val:\n\u001b[1;32m---> 15\u001b[0m     \u001b[43minsert_node\u001b[49m\u001b[43m(\u001b[49m\u001b[43mbst\u001b[49m\u001b[43m,\u001b[49m\u001b[43m \u001b[49m\u001b[43mi\u001b[49m\u001b[43m)\u001b[49m\n\u001b[0;32m     17\u001b[0m tree \u001b[38;5;241m=\u001b[39m Tree()\n\u001b[0;32m     18\u001b[0m tree\u001b[38;5;241m.\u001b[39mcreate_node(\u001b[38;5;28mstr\u001b[39m(bst\u001b[38;5;241m.\u001b[39mtag), \u001b[38;5;28mstr\u001b[39m(bst\u001b[38;5;241m.\u001b[39mtag)) \u001b[38;5;66;03m# root node\u001b[39;00m\n",
      "Cell \u001b[1;32mIn [28], line 7\u001b[0m, in \u001b[0;36minsert_node\u001b[1;34m(root, val)\u001b[0m\n\u001b[0;32m      5\u001b[0m     root \u001b[38;5;241m=\u001b[39m Node(tag\u001b[38;5;241m=\u001b[39mval)\n\u001b[0;32m      6\u001b[0m \u001b[38;5;28;01melif\u001b[39;00m val \u001b[38;5;241m<\u001b[39m root\u001b[38;5;241m.\u001b[39mtag:\n\u001b[1;32m----> 7\u001b[0m     root\u001b[38;5;241m.\u001b[39mleft \u001b[38;5;241m=\u001b[39m insert_node(\u001b[43mroot\u001b[49m\u001b[38;5;241;43m.\u001b[39;49m\u001b[43mleft\u001b[49m, val)\n\u001b[0;32m      8\u001b[0m \u001b[38;5;28;01melif\u001b[39;00m val \u001b[38;5;241m>\u001b[39m root\u001b[38;5;241m.\u001b[39mtag:\n\u001b[0;32m      9\u001b[0m     root\u001b[38;5;241m.\u001b[39mright \u001b[38;5;241m=\u001b[39m insert_node(root\u001b[38;5;241m.\u001b[39mright, val)\n",
      "\u001b[1;31mAttributeError\u001b[0m: 'Node' object has no attribute 'left'"
     ]
    }
   ],
   "source": [
    "from treelib import Node, Tree\n",
    "\n",
    "def insert_node(root, val):\n",
    "    if root is None:\n",
    "        root = Node(tag=val)\n",
    "    elif val < root.tag:\n",
    "        root.left = insert_node(root.left, val)\n",
    "    elif val > root.tag:\n",
    "        root.right = insert_node(root.right, val)\n",
    "    return root\n",
    "\n",
    "val = [10, 7, 8, 6, 5, 4, 3, 2, 12, 11, 13, 14, 15, 16, 17]\n",
    "bst = Node(val[0])\n",
    "for i in val:\n",
    "    insert_node(bst, i)\n",
    "\n",
    "tree = Tree()\n",
    "tree.create_node(str(bst.tag), str(bst.tag)) # root node\n",
    "\n",
    "def build_tree(node, parent_id):\n",
    "    if node.left is not None:\n",
    "        tree.create_node(str(node.left.tag), str(node.left.tag), parent=parent_id)\n",
    "        build_tree(node.left, str(node.left.tag))\n",
    "    if node.right is not None:\n",
    "        tree.create_node(str(node.right.tag), str(node.right.tag), parent=parent_id)\n",
    "        build_tree(node.right, str(node.right.tag))\n",
    "\n",
    "build_tree(bst, str(bst.tag))\n",
    "\n",
    "tree.show()\n"
   ]
  },
  {
   "cell_type": "code",
   "execution_count": 34,
   "id": "f949bffb",
   "metadata": {},
   "outputs": [
    {
     "name": "stdout",
     "output_type": "stream",
     "text": [
      "10\n",
      "├── 7\n",
      "│   ├── 6\n",
      "│   │   └── 5\n",
      "│   │       └── 4\n",
      "│   │           └── 3\n",
      "│   │               └── 2\n",
      "│   └── 8\n",
      "└── 12\n",
      "    ├── 11\n",
      "    └── 13\n",
      "        └── 14\n",
      "            └── 15\n",
      "                └── 16\n",
      "                    └── 17\n",
      "\n"
     ]
    }
   ],
   "source": [
    "from treelib import Node, Tree\n",
    "tree = Tree()\n",
    "tree.create_node(10,10)  # root node\n",
    "tree.create_node(7,7, parent=10)\n",
    "tree.create_node(12,12, parent=10)\n",
    "tree.create_node(6,6, parent=7)\n",
    "tree.create_node(8,8, parent=7)\n",
    "tree.create_node(11,11, parent=12)\n",
    "tree.create_node(13,13, parent=12)\n",
    "tree.create_node(5,5, parent=6)\n",
    "tree.create_node(14,14, parent=13)\n",
    "tree.create_node(4,4, parent=5)\n",
    "tree.create_node(15,15, parent=14)\n",
    "tree.create_node(3,3, parent=4)\n",
    "tree.create_node(16,16, parent=15)\n",
    "tree.create_node(2,2, parent=3)\n",
    "tree.create_node(17,17, parent=16)\n",
    "tree.show()"
   ]
  },
  {
   "cell_type": "code",
   "execution_count": 35,
   "id": "9a49ed3a",
   "metadata": {},
   "outputs": [],
   "source": [
    "# part d"
   ]
  },
  {
   "cell_type": "code",
   "execution_count": 1,
   "id": "eafa0cb0",
   "metadata": {},
   "outputs": [],
   "source": [
    "import turtle\n",
    "\n",
    "class TreeNode:\n",
    "    def __init__(self, val):\n",
    "        self.val = val\n",
    "        self.left = None\n",
    "        self.right = None\n",
    "        \n",
    "def insert_node(root, val):\n",
    "    if not root:\n",
    "        return TreeNode(val)\n",
    "    if val < root.val:\n",
    "        root.left = insert_node(root.left, val)\n",
    "    else:\n",
    "        root.right = insert_node(root.right, val)\n",
    "    return root\n",
    "\n",
    "def draw_tree(node, x, y, step, t):\n",
    "    if not node:\n",
    "        return\n",
    "    t.penup()\n",
    "    t.goto(x, y)\n",
    "    t.pendown()\n",
    "    t.write(node.val, align=\"center\", font=(\"Arial\", 15, \"normal\"))\n",
    "    if node.left:\n",
    "        t.goto(x-step, y-step)\n",
    "        t.pendown()\n",
    "        t.goto(x, y)\n",
    "        draw_tree(node.left, x-step, y-step, step/2, t)\n",
    "    if node.right:\n",
    "        t.goto(x+step, y-step)\n",
    "        t.pendown()\n",
    "        t.goto(x, y)\n",
    "        draw_tree(node.right, x+step, y-step, step/2, t)\n",
    "\n",
    "val = [10, 7, 8, 6, 5, 4, 3, 2, 12, 11, 13, 14, 15, 16, 17]\n",
    "\n",
    "bst = None\n",
    "for v in val:\n",
    "    bst = insert_node(bst, v)\n",
    "\n",
    "screen = turtle.Screen()\n",
    "screen.bgcolor(\"white\")\n",
    "\n",
    "t = turtle.Turtle()\n",
    "t.speed(0)\n",
    "t.penup()\n",
    "t.goto(0, 200)\n",
    "t.pendown()\n",
    "\n",
    "draw_tree(bst, 0, 300, 300, t)\n",
    "\n",
    "turtle.done()\n"
   ]
  },
  {
   "cell_type": "code",
   "execution_count": 2,
   "id": "da6cd589",
   "metadata": {},
   "outputs": [],
   "source": [
    "# part e"
   ]
  },
  {
   "cell_type": "code",
   "execution_count": 1,
   "id": "708f514c",
   "metadata": {},
   "outputs": [
    {
     "data": {
      "text/plain": [
       "'bst.gv.pdf'"
      ]
     },
     "execution_count": 1,
     "metadata": {},
     "output_type": "execute_result"
    }
   ],
   "source": [
    "from graphviz import Digraph\n",
    "\n",
    "class Node:\n",
    "    def __init__(self, val):\n",
    "        self.left = None\n",
    "        self.right = None\n",
    "        self.val = val\n",
    "\n",
    "def insert_node(root, val):\n",
    "    if root is None:\n",
    "        root = Node(val)\n",
    "    elif val < root.val:\n",
    "        root.left = insert_node(root.left, val)\n",
    "    else:\n",
    "        root.right = insert_node(root.right, val)\n",
    "    return root\n",
    "\n",
    "def draw_tree(node, dot):\n",
    "    if node is None:\n",
    "        return\n",
    "\n",
    "    dot.node(str(node.val), str(node.val))\n",
    "    if node.left:\n",
    "        dot.edge(str(node.val), str(node.left.val))\n",
    "        draw_tree(node.left, dot)\n",
    "    if node.right:\n",
    "        dot.edge(str(node.val), str(node.right.val))\n",
    "        draw_tree(node.right, dot)\n",
    "\n",
    "val = [10, 7, 8, 6, 5, 4, 3, 2, 12, 11, 13, 14, 15, 16, 17]\n",
    "bst = None\n",
    "for v in val:\n",
    "    bst = insert_node(bst, v)\n",
    "\n",
    "dot = Digraph(comment='Binary Search Tree')\n",
    "draw_tree(bst, dot)\n",
    "dot.render('bst.gv', view=True)"
   ]
  },
  {
   "cell_type": "code",
   "execution_count": null,
   "id": "9a87461a",
   "metadata": {},
   "outputs": [],
   "source": []
  }
 ],
 "metadata": {
  "kernelspec": {
   "display_name": "Python 3 (ipykernel)",
   "language": "python",
   "name": "python3"
  },
  "language_info": {
   "codemirror_mode": {
    "name": "ipython",
    "version": 3
   },
   "file_extension": ".py",
   "mimetype": "text/x-python",
   "name": "python",
   "nbconvert_exporter": "python",
   "pygments_lexer": "ipython3",
   "version": "3.10.5"
  }
 },
 "nbformat": 4,
 "nbformat_minor": 5
}
